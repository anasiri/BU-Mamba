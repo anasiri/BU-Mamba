{
 "cells": [
  {
   "cell_type": "code",
   "execution_count": 142,
   "id": "a8be6df1",
   "metadata": {},
   "outputs": [],
   "source": [
    "import os\n",
    "import json\n",
    "import numpy as np\n",
    "from natsort import os_sorted"
   ]
  },
  {
   "cell_type": "code",
   "execution_count": 143,
   "id": "b95c43ad",
   "metadata": {},
   "outputs": [],
   "source": [
    "results_dir = 'checkpoints/results_B/'\n",
    "experiments = [i for i in os.listdir(results_dir) if os.path.isdir(os.path.join(results_dir,i))]"
   ]
  },
  {
   "cell_type": "code",
   "execution_count": 144,
   "id": "0f4fcc98",
   "metadata": {},
   "outputs": [],
   "source": [
    "def last_argmax(array):\n",
    "    array = np.array(array)\n",
    "    return array.shape[0] - np.argmax(array[::-1]) - 1"
   ]
  },
  {
   "cell_type": "code",
   "execution_count": 145,
   "id": "e4107aaa",
   "metadata": {},
   "outputs": [],
   "source": [
    "experiments = ['resnet50', 'vgg16', 'vit-ti16', 'vit-s16',  'vit-s32', 'vit-b16', 'vit-b32', 'vim-s', 'vssm-ti', 'vssm-s',  'vssm-b']"
   ]
  },
  {
   "cell_type": "code",
   "execution_count": 146,
   "id": "c9c5ef87",
   "metadata": {},
   "outputs": [
    {
     "name": "stdout",
     "output_type": "stream",
     "text": [
      "Experiment Name: resnet50\n",
      "[75.0, 70.83, 87.5, 79.17, 79.17]\n",
      "Average Test Accuracy over 5 Folds: 78.33 +- 5.5277\t Max Fold Accuracy: 87.5, Min Fold Accuracy: 70.83\n",
      "\n",
      "Experiment Name: vgg16\n",
      "[70.83, 75.0, 87.5, 87.5, 79.17]\n",
      "Average Test Accuracy over 5 Folds: 80.0 +- 6.6667\t Max Fold Accuracy: 87.5, Min Fold Accuracy: 70.83\n",
      "\n",
      "Experiment Name: vit-ti16\n",
      "[75.0, 66.67, 87.5, 83.33, 75.0]\n",
      "Average Test Accuracy over 5 Folds: 77.5 +- 7.2648\t Max Fold Accuracy: 87.5, Min Fold Accuracy: 66.67\n",
      "\n",
      "Experiment Name: vit-s16\n",
      "[75.0, 75.0, 87.5, 91.67, 83.33]\n",
      "Average Test Accuracy over 5 Folds: 82.5 +- 6.6667\t Max Fold Accuracy: 91.67, Min Fold Accuracy: 75.0\n",
      "\n",
      "Experiment Name: vit-s32\n",
      "[70.83, 70.83, 83.33, 95.83, 75.0]\n",
      "Average Test Accuracy over 5 Folds: 79.17 +- 9.5015\t Max Fold Accuracy: 95.83, Min Fold Accuracy: 70.83\n",
      "\n",
      "Experiment Name: vit-b16\n",
      "[66.67, 70.83, 79.17, 87.5, 79.17]\n",
      "Average Test Accuracy over 5 Folds: 76.67 +- 7.2648\t Max Fold Accuracy: 87.5, Min Fold Accuracy: 66.67\n",
      "\n",
      "Experiment Name: vit-b32\n",
      "[54.17, 79.17, 79.17, 87.5, 87.5]\n",
      "Average Test Accuracy over 5 Folds: 77.5 +- 12.2474\t Max Fold Accuracy: 87.5, Min Fold Accuracy: 54.17\n",
      "\n",
      "Experiment Name: vim-s\n",
      "[75.0, 75.0, 95.83, 91.67, 83.33]\n",
      "Average Test Accuracy over 5 Folds: 84.17 +- 8.4984\t Max Fold Accuracy: 95.83, Min Fold Accuracy: 75.0\n",
      "\n",
      "Experiment Name: vssm-ti\n",
      "[75.0, 70.83, 95.83, 100.0, 95.83]\n",
      "Average Test Accuracy over 5 Folds: 87.5 +- 12.0761\t Max Fold Accuracy: 100.0, Min Fold Accuracy: 70.83\n",
      "\n",
      "Experiment Name: vssm-s\n",
      "[75.0, 70.83, 95.83, 79.17, 95.83]\n",
      "Average Test Accuracy over 5 Folds: 83.33 +- 10.5409\t Max Fold Accuracy: 95.83, Min Fold Accuracy: 70.83\n",
      "\n",
      "Experiment Name: vssm-b\n",
      "[75.0, 75.0, 83.33, 91.67, 83.33]\n",
      "Average Test Accuracy over 5 Folds: 81.67 +- 6.2361\t Max Fold Accuracy: 91.67, Min Fold Accuracy: 75.0\n",
      "\n"
     ]
    }
   ],
   "source": [
    "for experiment_name in experiments[:]:\n",
    "    folds = os_sorted(os.listdir(os.path.join(results_dir, experiment_name)))\n",
    "    experiment_results = []\n",
    "    for fold in folds[:]:\n",
    "        path = os.path.join(results_dir, experiment_name, fold, 'log.txt')\n",
    "        if not os.path.isfile(path):\n",
    "            continue\n",
    "        with open(path, 'r') as f:\n",
    "            logs = f.readlines()\n",
    "        logs = [json.loads(log[:-1]) for log in logs]\n",
    "        assert len(logs)==100\n",
    "        fold_results = {}\n",
    "\n",
    "        for key in logs[0].keys():\n",
    "            fold_results[key] = []\n",
    "            for log in logs:\n",
    "                fold_results[key].append(log[key])\n",
    "        experiment_results.append(fold_results)\n",
    "    \n",
    "    if len(experiment_results) == 0:\n",
    "        continue\n",
    "        \n",
    "    test_accs = [fold_result['test_acc1'][last_argmax(fold_result['val_acc1'])] for fold_result in experiment_results]\n",
    "#     test_accs = [np.max(fold_result['test_acc1']) for fold_result in experiment_results]\n",
    "    print(f\"Experiment Name: {experiment_name}\")\n",
    "    print([round(i,2) for i in test_accs])\n",
    "#     print(f\"Average Test Accuracy over {len(experiment_results)} Folds: {round(np.mean(test_accs), 2)} +- {np.std(test_accs)}\")\n",
    "    print(f\"Average Test Accuracy over {len(experiment_results)} Folds:\"\\\n",
    "          f\" {round(np.mean(test_accs), 2)} +- {round(np.std(test_accs), 4)}\"\\\n",
    "          f\"\\t Max Fold Accuracy: {round(np.max(test_accs), 2)}, Min Fold Accuracy: {round(np.min(test_accs), 2)}\")\n",
    "    print()"
   ]
  },
  {
   "cell_type": "code",
   "execution_count": 119,
   "id": "4ecbd709",
   "metadata": {},
   "outputs": [
    {
     "name": "stdout",
     "output_type": "stream",
     "text": [
      "Experiment Name: resnet50\n",
      "Accs:  [75.0, 70.83, 87.5, 79.17, 79.17]\n",
      "AUCs:  [93.71, 85.0, 94.81, 91.6, 85.16] \n",
      "\n",
      "Average Test Acc over 5 Folds: 78.33 +- 5.5277\t Max Fold Acc: 87.5, Min Fold Acc: 70.83\n",
      "Average Test AUC over 5 Folds: 90.05 +- 4.1932\t Max Fold AUC: 94.81, Min Fold AUC: 85.0\n",
      "\n",
      "\n",
      "\n"
     ]
    }
   ],
   "source": [
    "experiment_name = 'resnet50'\n",
    "folds = os_sorted(os.listdir(os.path.join(results_dir, experiment_name)))\n",
    "experiment_results = []\n",
    "for fold in folds:\n",
    "    path = os.path.join(results_dir, experiment_name, fold, 'log.txt')\n",
    "    if not os.path.isfile(path):\n",
    "        continue\n",
    "    with open(path, 'r') as f:\n",
    "        logs = f.readlines()\n",
    "    logs = [json.loads(log[:-1]) for log in logs]\n",
    "\n",
    "    fold_results = {}\n",
    "\n",
    "    for key in logs[0].keys():\n",
    "        fold_results[key] = []\n",
    "        for log in logs:\n",
    "            fold_results[key].append(log[key])\n",
    "    experiment_results.append(fold_results)\n",
    "test_accs = [fold_result['test_acc1'][last_argmax(fold_result['val_acc1'])] for fold_result in experiment_results]\n",
    "test_aucs = [fold_result['test_auc'][last_argmax(fold_result['val_acc1'])] for fold_result in experiment_results]\n",
    "print(f\"Experiment Name: {experiment_name}\")\n",
    "print(\"Accs: \", [round(i,2) for i in test_accs])\n",
    "print(\"AUCs: \", [round(i,2) for i in test_aucs], \"\\n\")\n",
    "#     print(f\"Average Test Accuracy over {len(experiment_results)} Folds: {round(np.mean(test_accs), 2)} +- {np.std(test_accs)}\")\n",
    "print(f\"Average Test Acc over {len(experiment_results)} Folds:\"\\\n",
    "      f\" {round(np.mean(test_accs), 2)} +- {round(np.std(test_accs), 4)}\"\\\n",
    "      f\"\\t Max Fold Acc: {round(np.max(test_accs), 2)}, Min Fold Acc: {round(np.min(test_accs), 2)}\")\n",
    "print(f\"Average Test AUC over {len(experiment_results)} Folds:\"\\\n",
    "      f\" {round(np.mean(test_aucs), 2)} +- {round(np.std(test_aucs), 4)}\"\\\n",
    "      f\"\\t Max Fold AUC: {round(np.max(test_aucs), 2)}, Min Fold AUC: {round(np.min(test_aucs), 2)}\")\n",
    "print(\"\\n\\n\")"
   ]
  },
  {
   "cell_type": "code",
   "execution_count": 151,
   "id": "dde4140d",
   "metadata": {},
   "outputs": [
    {
     "name": "stdout",
     "output_type": "stream",
     "text": [
      "resnet50 | 95.74 +- 1.42 |  87.66 +- 2.04\n",
      "vgg16 | 94.25 +- 1.28 |  85.82 +- 1.49\n",
      "vit-ti16 | 94.19 +- 1.74 |  85.39 +- 1.93\n",
      "vit-s16 | 95.39 +- 0.54 |  87.23 +- 2.33\n",
      "vit-s32 | 93.85 +- 0.72 |  86.24 +- 1.65\n",
      "vit-b16 | 95.76 +- 0.77 |  88.51 +- 2.67\n",
      "vit-b32 | 95.51 +- 1.53 |  86.52 +- 3.23\n",
      "vim-s | 95.84 +- 0.96 |  87.38 +- 3.22\n",
      "vssm-ti | 95.71 +- 1.01 |  89.36 +- 2.33\n",
      "vssm-s | 96.12 +- 0.75 |  87.8 +- 2.78\n",
      "vssm-b | 95.6 +- 0.79 |  88.51 +- 2.22\n"
     ]
    }
   ],
   "source": [
    "results_dir = 'checkpoints/results_Combined/'\n",
    "experiments = ['resnet50', 'vgg16', 'vit-ti16', 'vit-s16',  'vit-s32', 'vit-b16', 'vit-b32', 'vim-s', 'vssm-ti', 'vssm-s',  'vssm-b']\n",
    "for experiment_name in experiments[:]:\n",
    "    folds = os_sorted(os.listdir(os.path.join(results_dir, experiment_name)))\n",
    "    experiment_results = []\n",
    "    for fold in folds[:]:\n",
    "        path = os.path.join(results_dir, experiment_name, fold, 'log.txt')\n",
    "        if not os.path.isfile(path):\n",
    "            continue\n",
    "        with open(path, 'r') as f:\n",
    "            logs = f.readlines()\n",
    "        logs = [json.loads(log[:-1]) for log in logs]\n",
    "        assert len(logs)==100\n",
    "        fold_results = {}\n",
    "\n",
    "        for key in logs[0].keys():\n",
    "            fold_results[key] = []\n",
    "            for log in logs:\n",
    "                fold_results[key].append(log[key])\n",
    "        experiment_results.append(fold_results)\n",
    "    \n",
    "    if len(experiment_results) == 0:\n",
    "        continue\n",
    "        \n",
    "    test_accs = [fold_result['test_acc1'][last_argmax(fold_result['val_acc1'])] for fold_result in experiment_results]\n",
    "    test_aucs = [fold_result['test_auc'][last_argmax(fold_result['val_acc1'])] for fold_result in experiment_results]\n",
    "    print(f\"{experiment_name} | {round(np.mean(test_aucs), 2)} +- {round(np.std(test_aucs), 2)} | \"\\\n",
    "         f\" {round(np.mean(test_accs), 2)} +- {round(np.std(test_accs), 2)}\")\n"
   ]
  },
  {
   "cell_type": "code",
   "execution_count": null,
   "id": "8cd4ca3f",
   "metadata": {},
   "outputs": [],
   "source": [
    "\n"
   ]
  }
 ],
 "metadata": {
  "kernelspec": {
   "display_name": "Python 3 (ipykernel)",
   "language": "python",
   "name": "python3"
  },
  "language_info": {
   "codemirror_mode": {
    "name": "ipython",
    "version": 3
   },
   "file_extension": ".py",
   "mimetype": "text/x-python",
   "name": "python",
   "nbconvert_exporter": "python",
   "pygments_lexer": "ipython3",
   "version": "3.10.12"
  }
 },
 "nbformat": 4,
 "nbformat_minor": 5
}
