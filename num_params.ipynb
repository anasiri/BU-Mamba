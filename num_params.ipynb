{
 "cells": [
  {
   "cell_type": "code",
   "execution_count": 1,
   "id": "cb6360e3",
   "metadata": {},
   "outputs": [
    {
     "name": "stderr",
     "output_type": "stream",
     "text": [
      "/home/ubuntu/.local/lib/python3.10/site-packages/tqdm/auto.py:21: TqdmWarning: IProgress not found. Please update jupyter and ipywidgets. See https://ipywidgets.readthedocs.io/en/stable/user_install.html\n",
      "  from .autonotebook import tqdm as notebook_tqdm\n"
     ]
    }
   ],
   "source": [
    "import argparse\n",
    "from tqdm import tqdm\n",
    "\n",
    "from train import init_model\n",
    "import torch\n",
    "import torchvision.transforms as transforms\n",
    "from torch import nn\n",
    "from torchvision.models import resnet50, vgg16\n",
    "from PIL import Image\n",
    "import scipy.stats as stats\n",
    "import numpy as np\n",
    "from argparser import get_args_parser\n",
    "import utils\n",
    "from data import get_data_loaders\n",
    "from scipy.stats import wilcoxon, mannwhitneyu, kruskal\n",
    "from sklearn.utils import resample\n",
    "\n",
    "import itertools\n",
    "import os"
   ]
  },
  {
   "cell_type": "code",
   "execution_count": 3,
   "id": "f697003e",
   "metadata": {},
   "outputs": [],
   "source": [
    "parser = argparse.ArgumentParser()\n",
    "parser.add_argument('arch')\n",
    "args = get_args_parser().parse_known_args()[0]"
   ]
  },
  {
   "cell_type": "code",
   "execution_count": 12,
   "id": "5f01d6dd",
   "metadata": {},
   "outputs": [
    {
     "name": "stdout",
     "output_type": "stream",
     "text": [
      "Model: resnet50, Number of parameters: 23.5M\n",
      "Model: vgg16, Number of parameters: 134.3M\n",
      "Model: vit-ti16, Number of parameters: 5.5M\n",
      "Model: vit-s16, Number of parameters: 21.7M\n",
      "Model: vit-s32, Number of parameters: 22.5M\n",
      "Model: vit-b16, Number of parameters: 85.8M\n",
      "Model: vit-b32, Number of parameters: 87.5M\n",
      "Model: vim-s, Number of parameters: 25.4M\n",
      "Model: vssm-ti, Number of parameters: 29.9M\n",
      "Model: vssm-s, Number of parameters: 49.4M\n",
      "Model: vssm-b, Number of parameters: 87.5M\n"
     ]
    }
   ],
   "source": [
    "models = [\"resnet50\", \"vgg16\", \"vit-ti16\", \"vit-s16\", \"vit-s32\", \"vit-b16\", \"vit-b32\", \"vim-s\", \"vssm-ti\", \"vssm-s\", \"vssm-b\"]\n",
    "\n",
    "device = torch.device('cuda' if torch.cuda.is_available() else 'cpu')\n",
    "for model_name in models:\n",
    "    args.arch = model_name\n",
    "    model = init_model(args, device, 3)\n",
    "    num_params = sum(p.numel() for p in model.parameters()) / 1_000_000  # Convert to millions\n",
    "    print(f\"Model: {model_name}, Number of parameters: {num_params:.1f}M\")"
   ]
  },
  {
   "cell_type": "code",
   "execution_count": 13,
   "id": "0d86f78e",
   "metadata": {},
   "outputs": [
    {
     "name": "stdout",
     "output_type": "stream",
     "text": [
      "Model: resnet50, Number of parameters: 23.5M\n",
      "Model: vgg16, Number of parameters: 134.3M\n",
      "Model: vit-ti16, Number of parameters: 5.5M\n",
      "Model: vit-s16, Number of parameters: 21.7M\n",
      "Model: vit-s32, Number of parameters: 22.5M\n",
      "Model: vit-b16, Number of parameters: 85.8M\n",
      "Model: vit-b32, Number of parameters: 87.5M\n",
      "Model: vim-s, Number of parameters: 25.4M\n",
      "Model: vssm-ti, Number of parameters: 29.9M\n",
      "Model: vssm-s, Number of parameters: 49.4M\n",
      "Model: vssm-b, Number of parameters: 87.5M\n"
     ]
    }
   ],
   "source": [
    "models = [\"resnet50\", \"vgg16\", \"vit-ti16\", \"vit-s16\", \"vit-s32\", \"vit-b16\", \"vit-b32\", \"vim-s\", \"vssm-ti\", \"vssm-s\", \"vssm-b\"]\n",
    "\n",
    "device = torch.device('cuda' if torch.cuda.is_available() else 'cpu')\n",
    "for model_name in models:\n",
    "    args.arch = model_name\n",
    "    model = init_model(args, device, 2)\n",
    "    num_params = sum(p.numel() for p in model.parameters()) / 1_000_000  # Convert to millions\n",
    "    print(f\"Model: {model_name}, Number of parameters: {num_params:.1f}M\")"
   ]
  },
  {
   "cell_type": "code",
   "execution_count": null,
   "id": "a5b51dc7",
   "metadata": {},
   "outputs": [],
   "source": []
  }
 ],
 "metadata": {
  "kernelspec": {
   "display_name": "Python 3 (ipykernel)",
   "language": "python",
   "name": "python3"
  },
  "language_info": {
   "codemirror_mode": {
    "name": "ipython",
    "version": 3
   },
   "file_extension": ".py",
   "mimetype": "text/x-python",
   "name": "python",
   "nbconvert_exporter": "python",
   "pygments_lexer": "ipython3",
   "version": "3.10.12"
  }
 },
 "nbformat": 4,
 "nbformat_minor": 5
}
